{
  "cells": [
    {
      "cell_type": "markdown",
      "id": "a0409ef1",
      "metadata": {
        "id": "a0409ef1"
      },
      "source": [
        "<a target=\"_blank\" href=\"https://colab.research.google.com/github/lukebarousse/Python_Data_Analytics_Course/blob/main/4_Problems/1_09_Dictionaries.ipynb\">\n",
        "  <img src=\"https://colab.research.google.com/assets/colab-badge.svg\" alt=\"Open In Colab\"/>\n",
        "</a>"
      ]
    },
    {
      "cell_type": "markdown",
      "id": "e9170a0a",
      "metadata": {
        "id": "e9170a0a"
      },
      "source": [
        "## 🟩 Access Job Postings (1.9.1)"
      ]
    },
    {
      "cell_type": "code",
      "execution_count": 1,
      "id": "c94b145c",
      "metadata": {
        "id": "c94b145c",
        "outputId": "41a4f123-e636-48ea-f97f-dcb84293a8eb",
        "colab": {
          "base_uri": "https://localhost:8080/"
        }
      },
      "outputs": [
        {
          "output_type": "execute_result",
          "data": {
            "text/plain": [
              "{'Data Scientist': 120, 'Data Analyst': 80, 'Machine Learning Engineer': 50}"
            ]
          },
          "metadata": {},
          "execution_count": 1
        }
      ],
      "source": [
        "# Code Needed\n",
        "job_postings = {'Data Scientist': 120, 'Data Analyst': 80, 'Machine Learning Engineer': 50}\n",
        "job_postings"
      ]
    },
    {
      "cell_type": "markdown",
      "id": "6206eea6",
      "metadata": {
        "id": "6206eea6"
      },
      "source": [
        "---"
      ]
    },
    {
      "cell_type": "markdown",
      "id": "9a967eb2",
      "metadata": {
        "id": "9a967eb2"
      },
      "source": [
        "## 🟩 Add Job Role (1.9.2)"
      ]
    },
    {
      "cell_type": "code",
      "execution_count": 3,
      "id": "e142f46f",
      "metadata": {
        "id": "e142f46f",
        "outputId": "fd8cd1a1-a6d8-42b2-cc24-04dea3d2364b",
        "colab": {
          "base_uri": "https://localhost:8080/"
        }
      },
      "outputs": [
        {
          "output_type": "execute_result",
          "data": {
            "text/plain": [
              "{'Data Scientist': 120,\n",
              " 'Data Analyst': 80,\n",
              " 'Machine Learning Engineer': 50,\n",
              " 'Data Engineer': 79}"
            ]
          },
          "metadata": {},
          "execution_count": 3
        }
      ],
      "source": [
        "# Code Needed\n",
        "job_postings = {'Data Scientist': 120, 'Data Analyst': 80, 'Machine Learning Engineer': 50}\n",
        "job_postings[\"Data Engineer\"]=79\n",
        "job_postings"
      ]
    },
    {
      "cell_type": "markdown",
      "id": "3305a885",
      "metadata": {
        "id": "3305a885"
      },
      "source": [
        "---"
      ]
    },
    {
      "cell_type": "markdown",
      "id": "9d1a27ec",
      "metadata": {
        "id": "9d1a27ec"
      },
      "source": [
        "## 🟨 Remove Job Role (1.9.3)"
      ]
    },
    {
      "cell_type": "code",
      "execution_count": 4,
      "id": "3e97c9cc",
      "metadata": {
        "id": "3e97c9cc",
        "outputId": "2508f62e-3432-4072-e468-cf463e05fa12",
        "colab": {
          "base_uri": "https://localhost:8080/"
        }
      },
      "outputs": [
        {
          "output_type": "execute_result",
          "data": {
            "text/plain": [
              "{'Data Scientist': 120, 'Machine Learning Engineer': 50}"
            ]
          },
          "metadata": {},
          "execution_count": 4
        }
      ],
      "source": [
        "# Code Needed\n",
        "job_postings = {'Data Scientist': 120, 'Data Analyst': 80, 'Machine Learning Engineer': 50}\n",
        "job_postings.pop(\"Data Analyst\")\n",
        "job_postings"
      ]
    },
    {
      "cell_type": "markdown",
      "id": "4e805b06",
      "metadata": {
        "id": "4e805b06"
      },
      "source": [
        "---"
      ]
    },
    {
      "cell_type": "markdown",
      "id": "bb334124",
      "metadata": {
        "id": "bb334124"
      },
      "source": [
        "## 🟨 Merge Dictionaries (1.9.4)"
      ]
    },
    {
      "cell_type": "code",
      "execution_count": 7,
      "id": "d2fd3ae2",
      "metadata": {
        "id": "d2fd3ae2",
        "outputId": "a3e8b6ea-45f4-4f75-ef63-02d846624154",
        "colab": {
          "base_uri": "https://localhost:8080/"
        }
      },
      "outputs": [
        {
          "output_type": "stream",
          "name": "stdout",
          "text": [
            "{'Data Scientist': 120, 'Data Analyst': 80, 'Machine Learning Engineer': 50, 'AI Specialist': 30}\n"
          ]
        }
      ],
      "source": [
        "# Code Needed\n",
        "job_postings1 = {'Data Scientist': 120, 'Data Analyst': 80}\n",
        "job_postings2 = {'Machine Learning Engineer': 50, 'AI Specialist': 30}\n",
        "job_postings1.update(job_postings2)\n",
        "print(job_postings1)"
      ]
    },
    {
      "cell_type": "markdown",
      "id": "b61f7b57",
      "metadata": {
        "id": "b61f7b57"
      },
      "source": [
        "---"
      ]
    },
    {
      "cell_type": "markdown",
      "id": "791a349d",
      "metadata": {
        "id": "791a349d"
      },
      "source": [
        "## 🟥 Create Nested Dictionary (1.9.5)"
      ]
    },
    {
      "cell_type": "code",
      "execution_count": 9,
      "id": "b5acf180",
      "metadata": {
        "id": "b5acf180",
        "outputId": "457a2497-98e5-44e9-d6b1-b6505b30f6f3",
        "colab": {
          "base_uri": "https://localhost:8080/"
        }
      },
      "outputs": [
        {
          "output_type": "execute_result",
          "data": {
            "text/plain": [
              "{'Fruits': {'Sour': 'Lemon', 'Sweet': 'Mango'},\n",
              " 'Vegetable': {'Green': ['Spinach', 'Cauliflower'], 'Red': ['Carrot', 'Hey']}}"
            ]
          },
          "metadata": {},
          "execution_count": 9
        }
      ],
      "source": [
        "nested_dict={'Fruits':{'Sour':'Lemon','Sweet':'Mango'},\n",
        "             'Vegetable':{'Green':['Spinach','Cauliflower'],'Red':['Carrot','Hey']}\n",
        "             }\n",
        "nested_dict"
      ]
    },
    {
      "cell_type": "markdown",
      "id": "30d9f6d7",
      "metadata": {
        "id": "30d9f6d7"
      },
      "source": [
        "---"
      ]
    },
    {
      "cell_type": "code",
      "source": [
        "nested_dict['Fruits']"
      ],
      "metadata": {
        "id": "ZJDHpFcPLspf",
        "outputId": "20b620ea-a67a-40ea-97dc-264f1850f045",
        "colab": {
          "base_uri": "https://localhost:8080/"
        }
      },
      "id": "ZJDHpFcPLspf",
      "execution_count": 10,
      "outputs": [
        {
          "output_type": "execute_result",
          "data": {
            "text/plain": [
              "{'Sour': 'Lemon', 'Sweet': 'Mango'}"
            ]
          },
          "metadata": {},
          "execution_count": 10
        }
      ]
    },
    {
      "cell_type": "code",
      "source": [],
      "metadata": {
        "id": "XDc0pBA6LwlI"
      },
      "id": "XDc0pBA6LwlI",
      "execution_count": null,
      "outputs": []
    }
  ],
  "metadata": {
    "colab": {
      "provenance": []
    },
    "language_info": {
      "name": "python"
    },
    "kernelspec": {
      "name": "python3",
      "display_name": "Python 3"
    }
  },
  "nbformat": 4,
  "nbformat_minor": 5
}